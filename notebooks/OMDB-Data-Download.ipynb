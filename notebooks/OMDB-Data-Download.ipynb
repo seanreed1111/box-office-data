{
 "cells": [
  {
   "cell_type": "code",
   "execution_count": 44,
   "metadata": {
    "collapsed": false
   },
   "outputs": [],
   "source": [
    "OMDB_SECRET = \"\" #keep it secret. Do not commit with this filled out"
   ]
  },
  {
   "cell_type": "code",
   "execution_count": 3,
   "metadata": {
    "collapsed": true
   },
   "outputs": [],
   "source": [
    "from pandas import DataFrame, read_csv\n",
    "import pandas as pd"
   ]
  },
  {
   "cell_type": "code",
   "execution_count": 4,
   "metadata": {
    "collapsed": true
   },
   "outputs": [],
   "source": [
    "title_plus_year= read_csv(r'/Users/seanreed1/AnacondaProjects/scrapy-projects/movie-project/box-office-data/data/title_plus_year.csv')"
   ]
  },
  {
   "cell_type": "code",
   "execution_count": 13,
   "metadata": {
    "collapsed": false
   },
   "outputs": [
    {
     "data": {
      "text/html": [
       "<div>\n",
       "<table border=\"1\" class=\"dataframe\">\n",
       "  <thead>\n",
       "    <tr style=\"text-align: right;\">\n",
       "      <th></th>\n",
       "      <th>Title</th>\n",
       "      <th>Release_Year</th>\n",
       "    </tr>\n",
       "  </thead>\n",
       "  <tbody>\n",
       "    <tr>\n",
       "      <th>0</th>\n",
       "      <td>Star Wars Ep. VII: The Force Awakens</td>\n",
       "      <td>2015</td>\n",
       "    </tr>\n",
       "    <tr>\n",
       "      <th>1</th>\n",
       "      <td>Avatar</td>\n",
       "      <td>2009</td>\n",
       "    </tr>\n",
       "    <tr>\n",
       "      <th>2</th>\n",
       "      <td>Titanic</td>\n",
       "      <td>1997</td>\n",
       "    </tr>\n",
       "    <tr>\n",
       "      <th>3</th>\n",
       "      <td>Jurassic World</td>\n",
       "      <td>2015</td>\n",
       "    </tr>\n",
       "    <tr>\n",
       "      <th>4</th>\n",
       "      <td>The Avengers</td>\n",
       "      <td>2012</td>\n",
       "    </tr>\n",
       "  </tbody>\n",
       "</table>\n",
       "</div>"
      ],
      "text/plain": [
       "                                  Title  Release_Year\n",
       "0  Star Wars Ep. VII: The Force Awakens          2015\n",
       "1                                Avatar          2009\n",
       "2                               Titanic          1997\n",
       "3                        Jurassic World          2015\n",
       "4                          The Avengers          2012"
      ]
     },
     "execution_count": 13,
     "metadata": {},
     "output_type": "execute_result"
    }
   ],
   "source": [
    "title_plus_year.head()"
   ]
  },
  {
   "cell_type": "code",
   "execution_count": 23,
   "metadata": {
    "collapsed": false
   },
   "outputs": [],
   "source": [
    "title_plus_year_gen = ((row.Title, row.Release_Year) for row in title_plus_year.itertuples(index=False)) #generator expression"
   ]
  },
  {
   "cell_type": "markdown",
   "metadata": {},
   "source": [
    "'''\n",
    "OMDB Usage =>http://www.omdbapi.com/?apikey=[yourkey]&\n",
    "\n",
    "OMDB Requests\n",
    "use t for title search=> http://www.omdbapi.com/?t=dark+knight\n",
    "\n",
    "BEWARE. First Match is returned. Movie Titles are tricky and repetitive\n",
    "http://www.omdbapi.com/?t=dark+knight&r=xml returns\n",
    "\n",
    "<?xml version=\"1.0\" encoding=\"UTF-8\"?><root response=\"True\">\n",
    "<movie title=\"Dark Knight\" year=\"2000–\" rated=\"PG-13\" released=\"01 Jul 2000\" \n",
    "runtime=\"N/A\" genre=\"N/A\" director=\"N/A\" writer=\"N/A\" \n",
    "actors=\"Charlotte Comer, Ben Pullen, Peter O'Farrell, Marama Jackson\" \n",
    "plot=\"Set in the dark ages, a time of fear, magic and mystery. \n",
    "Ancient evil is about to be unleashed on the land and the only hope is the sharp sword, \n",
    "the pure heart and the mysterious force that protects the 'Chosen One' Ivanhoe.\" language=\"N/A\" country=\"UK\" awards=\"N/A\" poster=\"https://images-na.ssl-images-amazon.com/images/M/MV5BNWFjNzM0M2EtZDE4ZS00NDZlLTlhYjItNDhhNjgxODllYzdhXkEyXkFqcGdeQXVyNDUxNjc5NjY@._V1_SX300.jpg\" metascore=\"N/A\" imdbRating=\"5.4\" imdbVotes=\"146\" \n",
    "imdbID=\"tt0251504\" type=\"series\"/></root>\n",
    "\n",
    "but http://www.omdbapi.com/?t=dark+knight&y=2012&r=xml returns\n",
    "\n",
    "<?xml version=\"1.0\" encoding=\"UTF-8\"?><root response=\"True\">\n",
    "<movie title=\"The Dark Knight Rises\" year=\"2012\" rated=\"PG-13\" released=\"20 Jul 2012\" \n",
    "runtime=\"164 min\" genre=\"Action, Thriller\" director=\"Christopher Nolan\" \n",
    "writer=\"Jonathan Nolan (screenplay), Christopher Nolan (screenplay), Christopher Nolan (story), David S. Goyer (story), Bob Kane (characters)\" \n",
    "actors=\"Christian Bale, Gary Oldman, Tom Hardy, Joseph Gordon-Levitt\" plot=\"Eight years after the Joker's reign of anarchy, the Dark Knight, with the help of the enigmatic Selina, is forced from his exile to save Gotham City, now on the edge of total annihilation, from the brutal guerrilla terrorist Bane.\" language=\"English, Arabic\" country=\"UK, USA\" awards=\"Nominated for 1 BAFTA Film Award. Another 38 wins & 101 nominations.\" poster=\"https://images-na.ssl-images-amazon.com/images/M/MV5BMTk4ODQzNDY3Ml5BMl5BanBnXkFtZTcwODA0NTM4Nw@@._V1_SX300.jpg\" metascore=\"78\" imdbRating=\"8.5\" imdbVotes=\"1,235,836\" \n",
    "imdbID=\"tt1345836\" type=\"movie\"/></root>\n",
    "'''\n",
    "#Goals: extract the imbdID as string, genre as list, plot as string, rated as string, \n",
    "#director as comma separated list, writer as comma separated list,actors as comma separated list,\n"
   ]
  },
  {
   "cell_type": "code",
   "execution_count": null,
   "metadata": {
    "collapsed": true
   },
   "outputs": [],
   "source": [
    "# title_plus_year_gen is a generator expression. call next to get the next item from the dataframe"
   ]
  },
  {
   "cell_type": "code",
   "execution_count": 5,
   "metadata": {
    "collapsed": true
   },
   "outputs": [],
   "source": []
  },
  {
   "cell_type": "code",
   "execution_count": 32,
   "metadata": {
    "collapsed": true
   },
   "outputs": [],
   "source": [
    "\n",
    "payload = {'key1': 'value1', 'key2': 'value2'}\n"
   ]
  },
  {
   "cell_type": "code",
   "execution_count": 27,
   "metadata": {
    "collapsed": false
   },
   "outputs": [],
   "source": [
    "import urllib.parse as parse #url parser and constructor model\n",
    "#https://docs.python.org/3.6/library/urllib.parse.html?highlight=urlparse#urllib.parse.urlparse"
   ]
  },
  {
   "cell_type": "code",
   "execution_count": 41,
   "metadata": {
    "collapsed": false
   },
   "outputs": [
    {
     "name": "stdout",
     "output_type": "stream",
     "text": [
      "SplitResult(scheme='http', netloc='www.omdbapi.com', path='/', query='t=heart+condition&plot=full&r=xml&apikey=c2', fragment='')\n",
      "http www.omdbapi.com t=heart+condition&plot=full&r=xml&apikey=c2\n",
      "http www.omdbapi.com t=heart+condition&plot=full&r=xml&apikey=c2\n"
     ]
    }
   ],
   "source": [
    "item = parse.urlsplit(\"http://www.omdbapi.com/?t=heart+condition&plot=full&r=xml&apikey=c2\")\n",
    "print(item)\n",
    "print(item.scheme, item.netloc, item.query)\n",
    "print(item[0], item[1], item[3])"
   ]
  },
  {
   "cell_type": "code",
   "execution_count": 44,
   "metadata": {
    "collapsed": false
   },
   "outputs": [
    {
     "name": "stdout",
     "output_type": "stream",
     "text": [
      "http://www.omdbapi.com/?t=heart+condition&plot=full&r=xml&apikey=c2\n"
     ]
    }
   ],
   "source": [
    "item2 = parse.urlunsplit(('http','www.omdbapi.com','/','t=heart+condition&plot=full&r=xml&apikey=c2',''))\n",
    "print(item2)\n"
   ]
  },
  {
   "cell_type": "code",
   "execution_count": null,
   "metadata": {
    "collapsed": true
   },
   "outputs": [],
   "source": [
    "payload2={'t':\"The Dark Knight\", 'y':'2012'}\n",
    "item3 = parse.urlencode(payload2)\n",
    "print(item3)"
   ]
  },
  {
   "cell_type": "code",
   "execution_count": 45,
   "metadata": {
    "collapsed": false
   },
   "outputs": [],
   "source": [
    "#construct payload dictionary directly from the dataframe\n",
    "#payload=parse.urlencode(payload_dict)\n",
    "\n",
    "#create a tuple of form url_tuple =('http','www.omdbapi.com','/','t=heart+condition&plot=full&r=xml&apikey=c2','')\n",
    "#parse.urlunsplit(url_tuple)"
   ]
  },
  {
   "cell_type": "code",
   "execution_count": 5,
   "metadata": {
    "collapsed": false
   },
   "outputs": [],
   "source": [
    "\n",
    "title_plus_year= read_csv(r'/Users/seanreed1/AnacondaProjects/scrapy-projects/movie-project/box-office-data/data/title_plus_year.csv')\n",
    "title_plus_year_gen = ((row.Title, row.Release_Year) for row in title_plus_year.itertuples(index=False)) #generator expression"
   ]
  },
  {
   "cell_type": "code",
   "execution_count": null,
   "metadata": {
    "collapsed": true
   },
   "outputs": [],
   "source": [
    "'''\n",
    "#use requests\n",
    "import requests\n",
    "OMDB_SECRET = \"\"\n",
    "from itertools import count\n",
    "import urllib.parse as parse\n",
    "from time import sleep\n",
    "title_plus_year_gen = ((row.Title, row.Release_Year) for row in title_plus_year.itertuples(index=False))\n",
    "\n",
    "\n",
    "def make_urls():\n",
    "    base_url = \"www.omdbapi.com\"\n",
    "    urls = []\n",
    "\n",
    "    for title, year in title_plus_year_gen:\n",
    "\n",
    "        #construct payload dictionary directly from the dataframe\n",
    "        payload = parse.urlencode({'t':title, 'y':year, 'plot':'full', 'r':'xml','apikey':OMDB_SECRET})        \n",
    "        urls.append(parse.urlunsplit(('http',base_url,'/',payload,'')))\n",
    "    return urls\n",
    "\n",
    "def start():\n",
    "    urls = make_urls()\n",
    "    print(\"making {} get requests\".format(len(urls)))\n",
    "    for url in urls:\n",
    "        print(url)\n",
    "        try:\n",
    "            requests.get(url, timeout=70, hooks=dict(response=write))\n",
    "            sleep(0.5)\n",
    "        except Exception as e:\n",
    "            pass\n",
    "            \n",
    "    return urls\n",
    "\n",
    "\n",
    "\n",
    "def write(response, **kwargs):\n",
    "    \n",
    "    filename = str(next(numbers))+ '.xml'\n",
    "    with open(filename, 'wb') as f:\n",
    "        f.write(response.url.encode('utf-8'))\n",
    "        f.write(response.content)\n",
    "    print('saved file %s' % filename)\n",
    "\n",
    "def my_count():\n",
    "    n = 1\n",
    "    while True:\n",
    "        yield n\n",
    "        n += 1\n",
    "    \n",
    "numbers = my_count()\n",
    "try:\n",
    "    urls = start()\n",
    "except ReadTimeoutError:\n",
    "    pass\n",
    "except Exception as e:\n",
    "    print(e)\n",
    "    pass\n",
    "\n",
    "'''"
   ]
  },
  {
   "cell_type": "code",
   "execution_count": 42,
   "metadata": {
    "collapsed": false
   },
   "outputs": [],
   "source": [
    "df_url = DataFrame({\"urls\":urls})"
   ]
  },
  {
   "cell_type": "code",
   "execution_count": 43,
   "metadata": {
    "collapsed": true
   },
   "outputs": [],
   "source": [
    "df_url.to_csv(r'/Users/seanreed1/AnacondaProjects/scrapy-projects/movie-project/box-office-data/data/omdb_urls.csv')"
   ]
  },
  {
   "cell_type": "code",
   "execution_count": null,
   "metadata": {
    "collapsed": true
   },
   "outputs": [],
   "source": []
  }
 ],
 "metadata": {
  "kernelspec": {
   "display_name": "Python 3",
   "language": "python",
   "name": "python3"
  },
  "language_info": {
   "codemirror_mode": {
    "name": "ipython",
    "version": 3
   },
   "file_extension": ".py",
   "mimetype": "text/x-python",
   "name": "python",
   "nbconvert_exporter": "python",
   "pygments_lexer": "ipython3",
   "version": "3.6.0"
  }
 },
 "nbformat": 4,
 "nbformat_minor": 2
}
