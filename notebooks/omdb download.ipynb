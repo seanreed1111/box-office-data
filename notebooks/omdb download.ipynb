{
 "cells": [
  {
   "cell_type": "markdown",
   "metadata": {},
   "source": [
    "extract \"movie title\" and \"release date\" from html data.\n",
    "\n",
    "use movie title and release data on ==> http://www.omdbapi.com/ to get the imdbID\n",
    "\n",
    "\n",
    "example from omdbapi.com for 'Dunkirk'\n",
    "\n",
    "<?xml version=\"1.0\" encoding=\"UTF-8\"?><root response=\"True\"><movie title=\"Dunkirk\" year=\"2017\" rated=\"PG-13\" released=\"21 Jul 2017\" runtime=\"106 min\" genre=\"Action, Drama, History\" director=\"Christopher Nolan\" writer=\"Christopher Nolan\" actors=\"Fionn Whitehead, Damien Bonnard, Aneurin Barnard, Lee Armstrong\" plot=\"Evacuation of Allied soldiers from Belgium, the British Empire, and France, who were cut off and surrounded by the German army from the beaches and harbor of Dunkirk, France, between May 26- June 04, 1940, during Battle of France in World War II.\" language=\"English, French, German\" country=\"UK, Netherlands, France, USA\" awards=\"1 nomination.\" poster=\"https://images-na.ssl-images-amazon.com/images/M/MV5BN2YyZjQ0NTEtNzU5MS00NGZkLTg0MTEtYzJmMWY3MWRhZjM2XkEyXkFqcGdeQXVyMDA4NzMyOA@@._V1_SX300.jpg\" metascore=\"94\" imdbRating=\"8.8\" imdbVotes=\"43,242\" imdbID=\"tt5013056\" type=\"movie\"/></root>\n",
    "\n",
    "\n",
    "example for 'The Big Chill'\n",
    "\n",
    "<?xml version=\"1.0\" encoding=\"UTF-8\"?><root response=\"True\"><movie title=\"The Big Chill\" year=\"1983\" rated=\"R\" released=\"30 Sep 1983\" runtime=\"105 min\" genre=\"Comedy, Drama\" director=\"Lawrence Kasdan\" writer=\"Lawrence Kasdan, Barbara Benedek\" actors=\"Tom Berenger, Glenn Close, Jeff Goldblum, William Hurt\" plot=\"A seminal Thirty-Something movie in which a group of old college friends who are now all grown up and hardened by the big wide world come together for the funeral of Alex, a barely glimpsed corpse, who was at one time the brightest and the best of them, and yet who never managed to achieve half as much as any of the others. The friends use the occasion to reacquaint themselves with each other and to speculate as to what happened to their idealism which had been abundant when they were younger.\" language=\"English\" country=\"USA\" awards=\"Nominated for 3 Oscars. Another 3 wins & 5 nominations.\" poster=\"https://images-na.ssl-images-amazon.com/images/M/MV5BMTA4MjEyMTk5NzheQTJeQWpwZ15BbWU4MDY1NDA1MTAx._V1_SX300.jpg\" metascore=\"62\" imdbRating=\"7.2\" imdbVotes=\"27,110\" imdbID=\"tt0085244\" type=\"movie\"/></root>\n",
    "\n"
   ]
  },
  {
   "cell_type": "code",
   "execution_count": null,
   "metadata": {
    "collapsed": true
   },
   "outputs": [],
   "source": []
  }
 ],
 "metadata": {
  "kernelspec": {
   "display_name": "Python 3",
   "language": "python",
   "name": "python3"
  },
  "language_info": {
   "codemirror_mode": {
    "name": "ipython",
    "version": 3
   },
   "file_extension": ".py",
   "mimetype": "text/x-python",
   "name": "python",
   "nbconvert_exporter": "python",
   "pygments_lexer": "ipython3",
   "version": "3.6.0"
  }
 },
 "nbformat": 4,
 "nbformat_minor": 2
}
