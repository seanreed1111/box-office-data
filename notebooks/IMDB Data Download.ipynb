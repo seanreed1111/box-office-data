{
 "cells": [
  {
   "cell_type": "code",
   "execution_count": 1,
   "metadata": {
    "collapsed": true
   },
   "outputs": [],
   "source": [
    "import scrapy\n",
    "from scrapy.crawler import CrawlerProcess\n",
    "from time import sleep\n",
    "\n",
    "class IMDBSpider(scrapy.Spider):\n",
    "    name = \"IMDB\"\n",
    "    COOKIES_ENABLED = False\n",
    "    \n",
    "    def make_urls(self):\n",
    "        urls =[]\n",
    "        # NOTE IMDB needs the trailing '/' in its urls\n",
    "        base_url = \"http://www.imdb.com/title/tt0085244/\" #The Big Chill. \n",
    "        \n",
    "        urls = [base_url]\n",
    "        return urls\n",
    "    \n",
    "    def start_requests(self):\n",
    "        urls = self.make_urls()\n",
    "        for url in urls:\n",
    "            yield scrapy.Request(url=url, callback=self.parse)\n",
    "            sleep(11)\n",
    "\n",
    "\n",
    "    def parse(self, response):\n",
    "        filename = response.url.split(\"/\")[-1] + '.html'\n",
    "        with open(filename, 'wb') as f:\n",
    "          f.write(response.body)\n",
    "        self.log('saved file %s' % filename)"
   ]
  },
  {
   "cell_type": "code",
   "execution_count": 2,
   "metadata": {
    "collapsed": false
   },
   "outputs": [
    {
     "name": "stderr",
     "output_type": "stream",
     "text": [
      "2017-07-26 16:26:53 [scrapy.utils.log] INFO: Scrapy 1.3.3 started (bot: scrapybot)\n",
      "2017-07-26 16:26:53 [scrapy.utils.log] INFO: Overridden settings: {'USER_AGENT': 'Mozilla/4.0 (compatible; MSIE 7.0; Windows NT 5.1)'}\n",
      "2017-07-26 16:26:53 [scrapy.middleware] INFO: Enabled extensions:\n",
      "['scrapy.extensions.corestats.CoreStats',\n",
      " 'scrapy.extensions.telnet.TelnetConsole',\n",
      " 'scrapy.extensions.logstats.LogStats']\n",
      "2017-07-26 16:26:53 [scrapy.middleware] INFO: Enabled downloader middlewares:\n",
      "['scrapy.downloadermiddlewares.httpauth.HttpAuthMiddleware',\n",
      " 'scrapy.downloadermiddlewares.downloadtimeout.DownloadTimeoutMiddleware',\n",
      " 'scrapy.downloadermiddlewares.defaultheaders.DefaultHeadersMiddleware',\n",
      " 'scrapy.downloadermiddlewares.useragent.UserAgentMiddleware',\n",
      " 'scrapy.downloadermiddlewares.retry.RetryMiddleware',\n",
      " 'scrapy.downloadermiddlewares.redirect.MetaRefreshMiddleware',\n",
      " 'scrapy.downloadermiddlewares.httpcompression.HttpCompressionMiddleware',\n",
      " 'scrapy.downloadermiddlewares.redirect.RedirectMiddleware',\n",
      " 'scrapy.downloadermiddlewares.cookies.CookiesMiddleware',\n",
      " 'scrapy.downloadermiddlewares.stats.DownloaderStats']\n",
      "2017-07-26 16:26:53 [scrapy.middleware] INFO: Enabled spider middlewares:\n",
      "['scrapy.spidermiddlewares.httperror.HttpErrorMiddleware',\n",
      " 'scrapy.spidermiddlewares.offsite.OffsiteMiddleware',\n",
      " 'scrapy.spidermiddlewares.referer.RefererMiddleware',\n",
      " 'scrapy.spidermiddlewares.urllength.UrlLengthMiddleware',\n",
      " 'scrapy.spidermiddlewares.depth.DepthMiddleware']\n",
      "2017-07-26 16:26:53 [scrapy.middleware] INFO: Enabled item pipelines:\n",
      "[]\n",
      "2017-07-26 16:26:53 [scrapy.core.engine] INFO: Spider opened\n",
      "2017-07-26 16:26:53 [scrapy.extensions.logstats] INFO: Crawled 0 pages (at 0 pages/min), scraped 0 items (at 0 items/min)\n",
      "2017-07-26 16:26:53 [scrapy.extensions.telnet] DEBUG: Telnet console listening on 127.0.0.1:6026\n",
      "2017-07-26 16:27:04 [scrapy.downloadermiddlewares.redirect] DEBUG: Redirecting (301) to <GET http://www.imdb.com/title/tt0085244/> from <GET http://www.imdb.com/title/tt0085244>\n",
      "2017-07-26 16:27:05 [scrapy.core.engine] DEBUG: Crawled (200) <GET http://www.imdb.com/title/tt0085244/> (referer: None)\n",
      "2017-07-26 16:27:05 [IMDB] DEBUG: saved file .html\n",
      "2017-07-26 16:27:05 [scrapy.core.engine] INFO: Closing spider (finished)\n",
      "2017-07-26 16:27:05 [scrapy.statscollectors] INFO: Dumping Scrapy stats:\n",
      "{'downloader/request_bytes': 485,\n",
      " 'downloader/request_count': 2,\n",
      " 'downloader/request_method_count/GET': 2,\n",
      " 'downloader/response_bytes': 52690,\n",
      " 'downloader/response_count': 2,\n",
      " 'downloader/response_status_count/200': 1,\n",
      " 'downloader/response_status_count/301': 1,\n",
      " 'finish_reason': 'finished',\n",
      " 'finish_time': datetime.datetime(2017, 7, 26, 20, 27, 5, 425381),\n",
      " 'log_count/DEBUG': 4,\n",
      " 'log_count/INFO': 7,\n",
      " 'response_received_count': 1,\n",
      " 'scheduler/dequeued': 2,\n",
      " 'scheduler/dequeued/memory': 2,\n",
      " 'scheduler/enqueued': 2,\n",
      " 'scheduler/enqueued/memory': 2,\n",
      " 'start_time': datetime.datetime(2017, 7, 26, 20, 26, 53, 417310)}\n",
      "2017-07-26 16:27:05 [scrapy.core.engine] INFO: Spider closed (finished)\n"
     ]
    }
   ],
   "source": [
    "process = CrawlerProcess({\n",
    "    'USER_AGENT': 'Mozilla/4.0 (compatible; MSIE 7.0; Windows NT 5.1)'\n",
    "})\n",
    "\n",
    "process.crawl(IMDBSpider)\n",
    "process.start()"
   ]
  },
  {
   "cell_type": "code",
   "execution_count": null,
   "metadata": {
    "collapsed": true
   },
   "outputs": [],
   "source": []
  }
 ],
 "metadata": {
  "kernelspec": {
   "display_name": "Python 3",
   "language": "python",
   "name": "python3"
  },
  "language_info": {
   "codemirror_mode": {
    "name": "ipython",
    "version": 3
   },
   "file_extension": ".py",
   "mimetype": "text/x-python",
   "name": "python",
   "nbconvert_exporter": "python",
   "pygments_lexer": "ipython3",
   "version": "3.6.0"
  }
 },
 "nbformat": 4,
 "nbformat_minor": 2
}
