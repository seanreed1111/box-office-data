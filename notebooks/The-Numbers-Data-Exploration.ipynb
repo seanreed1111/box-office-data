{
 "cells": [
  {
   "cell_type": "code",
   "execution_count": 5,
   "metadata": {
    "collapsed": false
   },
   "outputs": [
    {
     "name": "stdout",
     "output_type": "stream",
     "text": [
      "LICENSE            \u001b[34mnotebooks\u001b[m\u001b[m          \u001b[34msample-files\u001b[m\u001b[m\r\n",
      "\u001b[34mdata\u001b[m\u001b[m               \u001b[34mparsed-movie-files\u001b[m\u001b[m\r\n"
     ]
    }
   ],
   "source": [
    "!ls ../\n"
   ]
  },
  {
   "cell_type": "code",
   "execution_count": 7,
   "metadata": {
    "collapsed": false
   },
   "outputs": [],
   "source": [
    "from pandas import DataFrame, read_csv\n",
    "import pandas as pd\n",
    "df = read_csv(r'/Users/seanreed1/AnacondaProjects/scrapy-projects/movie-project/box-office-data/data/final-box-office-data.csv')"
   ]
  },
  {
   "cell_type": "code",
   "execution_count": 9,
   "metadata": {
    "collapsed": false
   },
   "outputs": [
    {
     "data": {
      "text/html": [
       "<div>\n",
       "<table border=\"1\" class=\"dataframe\">\n",
       "  <thead>\n",
       "    <tr style=\"text-align: right;\">\n",
       "      <th></th>\n",
       "      <th>Rank</th>\n",
       "      <th>Title</th>\n",
       "      <th>Release_Year</th>\n",
       "      <th>Domestic Box Office</th>\n",
       "      <th>International Box Office</th>\n",
       "      <th>Total Box Office</th>\n",
       "    </tr>\n",
       "  </thead>\n",
       "  <tbody>\n",
       "    <tr>\n",
       "      <th>0</th>\n",
       "      <td>1</td>\n",
       "      <td>Star Wars Ep. VII: The Force Awakens</td>\n",
       "      <td>2015</td>\n",
       "      <td>$936,662,225</td>\n",
       "      <td>$1,122,000,000</td>\n",
       "      <td>$2,058,662,225</td>\n",
       "    </tr>\n",
       "    <tr>\n",
       "      <th>1</th>\n",
       "      <td>2</td>\n",
       "      <td>Avatar</td>\n",
       "      <td>2009</td>\n",
       "      <td>$760,507,625</td>\n",
       "      <td>$2,023,411,357</td>\n",
       "      <td>$2,783,918,982</td>\n",
       "    </tr>\n",
       "    <tr>\n",
       "      <th>2</th>\n",
       "      <td>3</td>\n",
       "      <td>Titanic</td>\n",
       "      <td>1997</td>\n",
       "      <td>$658,672,302</td>\n",
       "      <td>$1,548,943,366</td>\n",
       "      <td>$2,207,615,668</td>\n",
       "    </tr>\n",
       "    <tr>\n",
       "      <th>3</th>\n",
       "      <td>4</td>\n",
       "      <td>Jurassic World</td>\n",
       "      <td>2015</td>\n",
       "      <td>$652,198,010</td>\n",
       "      <td>$1,019,442,583</td>\n",
       "      <td>$1,671,640,593</td>\n",
       "    </tr>\n",
       "    <tr>\n",
       "      <th>4</th>\n",
       "      <td>5</td>\n",
       "      <td>The Avengers</td>\n",
       "      <td>2012</td>\n",
       "      <td>$623,279,547</td>\n",
       "      <td>$896,200,000</td>\n",
       "      <td>$1,519,479,547</td>\n",
       "    </tr>\n",
       "  </tbody>\n",
       "</table>\n",
       "</div>"
      ],
      "text/plain": [
       "  Rank                                 Title  Release_Year  \\\n",
       "0    1  Star Wars Ep. VII: The Force Awakens          2015   \n",
       "1    2                                Avatar          2009   \n",
       "2    3                               Titanic          1997   \n",
       "3    4                        Jurassic World          2015   \n",
       "4    5                          The Avengers          2012   \n",
       "\n",
       "  Domestic Box Office International Box Office Total Box Office  \n",
       "0        $936,662,225           $1,122,000,000   $2,058,662,225  \n",
       "1        $760,507,625           $2,023,411,357   $2,783,918,982  \n",
       "2        $658,672,302           $1,548,943,366   $2,207,615,668  \n",
       "3        $652,198,010           $1,019,442,583   $1,671,640,593  \n",
       "4        $623,279,547             $896,200,000   $1,519,479,547  "
      ]
     },
     "execution_count": 9,
     "metadata": {},
     "output_type": "execute_result"
    }
   ],
   "source": [
    "df.head()"
   ]
  },
  {
   "cell_type": "code",
   "execution_count": 10,
   "metadata": {
    "collapsed": false
   },
   "outputs": [
    {
     "data": {
      "text/html": [
       "<div>\n",
       "<table border=\"1\" class=\"dataframe\">\n",
       "  <thead>\n",
       "    <tr style=\"text-align: right;\">\n",
       "      <th></th>\n",
       "      <th>Rank</th>\n",
       "      <th>Title</th>\n",
       "      <th>Release_Year</th>\n",
       "      <th>Domestic Box Office</th>\n",
       "      <th>International Box Office</th>\n",
       "      <th>Total Box Office</th>\n",
       "    </tr>\n",
       "  </thead>\n",
       "  <tbody>\n",
       "    <tr>\n",
       "      <th>0</th>\n",
       "      <td>1</td>\n",
       "      <td>Star Wars Ep. VII: The Force Awakens</td>\n",
       "      <td>2015</td>\n",
       "      <td>$936,662,225</td>\n",
       "      <td>$1,122,000,000</td>\n",
       "      <td>$2,058,662,225</td>\n",
       "    </tr>\n",
       "    <tr>\n",
       "      <th>1</th>\n",
       "      <td>2</td>\n",
       "      <td>Avatar</td>\n",
       "      <td>2009</td>\n",
       "      <td>$760,507,625</td>\n",
       "      <td>$2,023,411,357</td>\n",
       "      <td>$2,783,918,982</td>\n",
       "    </tr>\n",
       "    <tr>\n",
       "      <th>2</th>\n",
       "      <td>3</td>\n",
       "      <td>Titanic</td>\n",
       "      <td>1997</td>\n",
       "      <td>$658,672,302</td>\n",
       "      <td>$1,548,943,366</td>\n",
       "      <td>$2,207,615,668</td>\n",
       "    </tr>\n",
       "    <tr>\n",
       "      <th>3</th>\n",
       "      <td>4</td>\n",
       "      <td>Jurassic World</td>\n",
       "      <td>2015</td>\n",
       "      <td>$652,198,010</td>\n",
       "      <td>$1,019,442,583</td>\n",
       "      <td>$1,671,640,593</td>\n",
       "    </tr>\n",
       "    <tr>\n",
       "      <th>4</th>\n",
       "      <td>5</td>\n",
       "      <td>The Avengers</td>\n",
       "      <td>2012</td>\n",
       "      <td>$623,279,547</td>\n",
       "      <td>$896,200,000</td>\n",
       "      <td>$1,519,479,547</td>\n",
       "    </tr>\n",
       "    <tr>\n",
       "      <th>5</th>\n",
       "      <td>6</td>\n",
       "      <td>The Dark Knight</td>\n",
       "      <td>2008</td>\n",
       "      <td>$533,345,358</td>\n",
       "      <td>$469,451,702</td>\n",
       "      <td>$1,002,797,060</td>\n",
       "    </tr>\n",
       "    <tr>\n",
       "      <th>6</th>\n",
       "      <td>7</td>\n",
       "      <td>Rogue One: A Star Wars Story</td>\n",
       "      <td>2016</td>\n",
       "      <td>$532,177,324</td>\n",
       "      <td>$518,811,164</td>\n",
       "      <td>$1,050,988,488</td>\n",
       "    </tr>\n",
       "    <tr>\n",
       "      <th>7</th>\n",
       "      <td>8</td>\n",
       "      <td>Beauty and the Beast</td>\n",
       "      <td>2017</td>\n",
       "      <td>$504,014,165</td>\n",
       "      <td>$756,108,198</td>\n",
       "      <td>$1,260,122,363</td>\n",
       "    </tr>\n",
       "    <tr>\n",
       "      <th>8</th>\n",
       "      <td>9</td>\n",
       "      <td>Finding Dory</td>\n",
       "      <td>2016</td>\n",
       "      <td>$486,295,561</td>\n",
       "      <td>$536,321,815</td>\n",
       "      <td>$1,022,617,376</td>\n",
       "    </tr>\n",
       "    <tr>\n",
       "      <th>9</th>\n",
       "      <td>10</td>\n",
       "      <td>Star Wars Ep. I: The Phantom Menace</td>\n",
       "      <td>1999</td>\n",
       "      <td>$474,544,677</td>\n",
       "      <td>$552,500,000</td>\n",
       "      <td>$1,027,044,677</td>\n",
       "    </tr>\n",
       "    <tr>\n",
       "      <th>10</th>\n",
       "      <td>11</td>\n",
       "      <td>Star Wars Ep. IV: A New Hope</td>\n",
       "      <td>1977</td>\n",
       "      <td>$460,998,007</td>\n",
       "      <td>$325,600,000</td>\n",
       "      <td>$786,598,007</td>\n",
       "    </tr>\n",
       "  </tbody>\n",
       "</table>\n",
       "</div>"
      ],
      "text/plain": [
       "   Rank                                 Title  Release_Year  \\\n",
       "0     1  Star Wars Ep. VII: The Force Awakens          2015   \n",
       "1     2                                Avatar          2009   \n",
       "2     3                               Titanic          1997   \n",
       "3     4                        Jurassic World          2015   \n",
       "4     5                          The Avengers          2012   \n",
       "5     6                       The Dark Knight          2008   \n",
       "6     7          Rogue One: A Star Wars Story          2016   \n",
       "7     8                  Beauty and the Beast          2017   \n",
       "8     9                          Finding Dory          2016   \n",
       "9    10   Star Wars Ep. I: The Phantom Menace          1999   \n",
       "10   11          Star Wars Ep. IV: A New Hope          1977   \n",
       "\n",
       "   Domestic Box Office International Box Office Total Box Office  \n",
       "0         $936,662,225           $1,122,000,000   $2,058,662,225  \n",
       "1         $760,507,625           $2,023,411,357   $2,783,918,982  \n",
       "2         $658,672,302           $1,548,943,366   $2,207,615,668  \n",
       "3         $652,198,010           $1,019,442,583   $1,671,640,593  \n",
       "4         $623,279,547             $896,200,000   $1,519,479,547  \n",
       "5         $533,345,358             $469,451,702   $1,002,797,060  \n",
       "6         $532,177,324             $518,811,164   $1,050,988,488  \n",
       "7         $504,014,165             $756,108,198   $1,260,122,363  \n",
       "8         $486,295,561             $536,321,815   $1,022,617,376  \n",
       "9         $474,544,677             $552,500,000   $1,027,044,677  \n",
       "10        $460,998,007             $325,600,000     $786,598,007  "
      ]
     },
     "execution_count": 10,
     "metadata": {},
     "output_type": "execute_result"
    }
   ],
   "source": [
    "df.ix[:10,:]"
   ]
  },
  {
   "cell_type": "code",
   "execution_count": 17,
   "metadata": {
    "collapsed": false
   },
   "outputs": [
    {
     "data": {
      "text/html": [
       "<div>\n",
       "<table border=\"1\" class=\"dataframe\">\n",
       "  <thead>\n",
       "    <tr style=\"text-align: right;\">\n",
       "      <th></th>\n",
       "      <th>Title</th>\n",
       "      <th>Release_Year</th>\n",
       "    </tr>\n",
       "  </thead>\n",
       "  <tbody>\n",
       "    <tr>\n",
       "      <th>0</th>\n",
       "      <td>Star Wars Ep. VII: The Force Awakens</td>\n",
       "      <td>2015</td>\n",
       "    </tr>\n",
       "    <tr>\n",
       "      <th>1</th>\n",
       "      <td>Avatar</td>\n",
       "      <td>2009</td>\n",
       "    </tr>\n",
       "    <tr>\n",
       "      <th>2</th>\n",
       "      <td>Titanic</td>\n",
       "      <td>1997</td>\n",
       "    </tr>\n",
       "    <tr>\n",
       "      <th>3</th>\n",
       "      <td>Jurassic World</td>\n",
       "      <td>2015</td>\n",
       "    </tr>\n",
       "    <tr>\n",
       "      <th>4</th>\n",
       "      <td>The Avengers</td>\n",
       "      <td>2012</td>\n",
       "    </tr>\n",
       "  </tbody>\n",
       "</table>\n",
       "</div>"
      ],
      "text/plain": [
       "                                  Title  Release_Year\n",
       "0  Star Wars Ep. VII: The Force Awakens          2015\n",
       "1                                Avatar          2009\n",
       "2                               Titanic          1997\n",
       "3                        Jurassic World          2015\n",
       "4                          The Avengers          2012"
      ]
     },
     "execution_count": 17,
     "metadata": {},
     "output_type": "execute_result"
    }
   ],
   "source": [
    "# extract title and release year to feed into OBMD process chain\n",
    "title_plus_year = df[['Title', 'Release_Year']]\n",
    "title_plus_year.head()"
   ]
  },
  {
   "cell_type": "code",
   "execution_count": 25,
   "metadata": {
    "collapsed": true
   },
   "outputs": [],
   "source": [
    "title_plus_year.to_csv(r'/Users/seanreed1/AnacondaProjects/scrapy-projects/movie-project/box-office-data/data/title_plus_year.csv', index=False)"
   ]
  },
  {
   "cell_type": "code",
   "execution_count": 30,
   "metadata": {
    "collapsed": false
   },
   "outputs": [],
   "source": [
    "#check to make sure the file actually saved correctly\n",
    "title_plus_year2= read_csv(r'/Users/seanreed1/AnacondaProjects/scrapy-projects/movie-project/box-office-data/data/title_plus_year.csv')"
   ]
  },
  {
   "cell_type": "code",
   "execution_count": 31,
   "metadata": {
    "collapsed": false
   },
   "outputs": [
    {
     "data": {
      "text/html": [
       "<div>\n",
       "<table border=\"1\" class=\"dataframe\">\n",
       "  <thead>\n",
       "    <tr style=\"text-align: right;\">\n",
       "      <th></th>\n",
       "      <th>Title</th>\n",
       "      <th>Release_Year</th>\n",
       "    </tr>\n",
       "  </thead>\n",
       "  <tbody>\n",
       "    <tr>\n",
       "      <th>0</th>\n",
       "      <td>Star Wars Ep. VII: The Force Awakens</td>\n",
       "      <td>2015</td>\n",
       "    </tr>\n",
       "    <tr>\n",
       "      <th>1</th>\n",
       "      <td>Avatar</td>\n",
       "      <td>2009</td>\n",
       "    </tr>\n",
       "    <tr>\n",
       "      <th>2</th>\n",
       "      <td>Titanic</td>\n",
       "      <td>1997</td>\n",
       "    </tr>\n",
       "    <tr>\n",
       "      <th>3</th>\n",
       "      <td>Jurassic World</td>\n",
       "      <td>2015</td>\n",
       "    </tr>\n",
       "    <tr>\n",
       "      <th>4</th>\n",
       "      <td>The Avengers</td>\n",
       "      <td>2012</td>\n",
       "    </tr>\n",
       "  </tbody>\n",
       "</table>\n",
       "</div>"
      ],
      "text/plain": [
       "                                  Title  Release_Year\n",
       "0  Star Wars Ep. VII: The Force Awakens          2015\n",
       "1                                Avatar          2009\n",
       "2                               Titanic          1997\n",
       "3                        Jurassic World          2015\n",
       "4                          The Avengers          2012"
      ]
     },
     "execution_count": 31,
     "metadata": {},
     "output_type": "execute_result"
    }
   ],
   "source": [
    "\n",
    "title_plus_year2.head()"
   ]
  },
  {
   "cell_type": "code",
   "execution_count": 32,
   "metadata": {
    "collapsed": false
   },
   "outputs": [
    {
     "data": {
      "text/html": [
       "<div>\n",
       "<table border=\"1\" class=\"dataframe\">\n",
       "  <thead>\n",
       "    <tr style=\"text-align: right;\">\n",
       "      <th></th>\n",
       "      <th>Title</th>\n",
       "      <th>Release_Year</th>\n",
       "    </tr>\n",
       "  </thead>\n",
       "  <tbody>\n",
       "    <tr>\n",
       "      <th>6095</th>\n",
       "      <td>Heart Condition</td>\n",
       "      <td>1990</td>\n",
       "    </tr>\n",
       "    <tr>\n",
       "      <th>6096</th>\n",
       "      <td>Venom</td>\n",
       "      <td>1982</td>\n",
       "    </tr>\n",
       "    <tr>\n",
       "      <th>6097</th>\n",
       "      <td>Partners</td>\n",
       "      <td>1982</td>\n",
       "    </tr>\n",
       "    <tr>\n",
       "      <th>6098</th>\n",
       "      <td>Kama Sutra</td>\n",
       "      <td>1997</td>\n",
       "    </tr>\n",
       "    <tr>\n",
       "      <th>6099</th>\n",
       "      <td>Serbuan maut</td>\n",
       "      <td>2012</td>\n",
       "    </tr>\n",
       "  </tbody>\n",
       "</table>\n",
       "</div>"
      ],
      "text/plain": [
       "                Title  Release_Year\n",
       "6095  Heart Condition          1990\n",
       "6096            Venom          1982\n",
       "6097         Partners          1982\n",
       "6098       Kama Sutra          1997\n",
       "6099     Serbuan maut          2012"
      ]
     },
     "execution_count": 32,
     "metadata": {},
     "output_type": "execute_result"
    }
   ],
   "source": [
    "title_plus_year2.tail()"
   ]
  },
  {
   "cell_type": "code",
   "execution_count": 33,
   "metadata": {
    "collapsed": true
   },
   "outputs": [],
   "source": [
    "#ok, data has been saved. Now, on to the OMDB data downloader"
   ]
  },
  {
   "cell_type": "code",
   "execution_count": null,
   "metadata": {
    "collapsed": true
   },
   "outputs": [],
   "source": []
  }
 ],
 "metadata": {
  "kernelspec": {
   "display_name": "Python 3",
   "language": "python",
   "name": "python3"
  },
  "language_info": {
   "codemirror_mode": {
    "name": "ipython",
    "version": 3
   },
   "file_extension": ".py",
   "mimetype": "text/x-python",
   "name": "python",
   "nbconvert_exporter": "python",
   "pygments_lexer": "ipython3",
   "version": "3.6.0"
  }
 },
 "nbformat": 4,
 "nbformat_minor": 2
}
