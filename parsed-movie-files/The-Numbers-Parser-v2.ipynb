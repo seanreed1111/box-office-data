{
 "cells": [
  {
   "cell_type": "code",
   "execution_count": 1,
   "metadata": {
    "collapsed": false
   },
   "outputs": [
    {
     "name": "stdout",
     "output_type": "stream",
     "text": [
      "/Users/seanreed1/AnacondaProjects/scrapy-projects/movie-project/box-office-data/parsed-movie-files\r\n"
     ]
    }
   ],
   "source": [
    "!pwd"
   ]
  },
  {
   "cell_type": "code",
   "execution_count": 2,
   "metadata": {
    "collapsed": false
   },
   "outputs": [
    {
     "name": "stdout",
     "output_type": "stream",
     "text": [
      "1.html                        3801.html\r\n",
      "1001.html                     3901.html\r\n",
      "101.html                      4001.html\r\n",
      "1101.html                     401.html\r\n",
      "1201.html                     4101.html\r\n",
      "1301.html                     4201.html\r\n",
      "1401.html                     4301.html\r\n",
      "1501.html                     4401.html\r\n",
      "1601.html                     4501.html\r\n",
      "1701.html                     4601.html\r\n",
      "1801.html                     4701.html\r\n",
      "1901.html                     4801.html\r\n",
      "2001.html                     4901.html\r\n",
      "201.html                      5001.html\r\n",
      "2101.html                     501.html\r\n",
      "2201.html                     5101.html\r\n",
      "2301.html                     5201.html\r\n",
      "2401.html                     5301.html\r\n",
      "2501.html                     5401.html\r\n",
      "2601.html                     5501.html\r\n",
      "2701.html                     5601.html\r\n",
      "2801.html                     5701.html\r\n",
      "2901.html                     5801.html\r\n",
      "3001.html                     5901.html\r\n",
      "301.html                      6001.html\r\n",
      "3101.html                     601.html\r\n",
      "3201.html                     701.html\r\n",
      "3301.html                     801.html\r\n",
      "3401.html                     901.html\r\n",
      "3501.html                     The-Numbers-HTML-Parser.ipynb\r\n",
      "3601.html                     The-Numbers-Parser-v2.ipynb\r\n",
      "3701.html\r\n"
     ]
    }
   ],
   "source": [
    "!ls\n"
   ]
  },
  {
   "cell_type": "code",
   "execution_count": 3,
   "metadata": {
    "collapsed": true
   },
   "outputs": [],
   "source": [
    "from bs4 import BeautifulSoup\n",
    "from pandas import DataFrame, read_csv\n",
    "import pandas as pd\n",
    "\n",
    "headings = [\"Rank\",\"Title\", \"Release_Year\",  \"Domestic Box Office\", \"International Box Office\", \"Total Box Office\"]\n",
    "\n",
    "movie_list = []\n",
    "\n",
    "for n in range(1,6101,100):\n",
    "    fname = str(n)+'.html'\n",
    "    with open(fname) as f:\n",
    "        soup = BeautifulSoup(f, 'lxml')\n",
    "        td = soup.table.tbody.find_all('td')\n",
    "\n",
    "    for i in range(0,600,6):\n",
    "        movie_tuple =tuple([td[i].contents[0], \n",
    "                                   td[i+2].a.contents[0],\n",
    "                                   td[i+1].a.contents[0], \n",
    "                                   td[i+3].contents[0],\n",
    "                                   td[i+4].contents[0],\n",
    "                                   td[i+5].contents[0]])\n",
    "        movie_list.append(movie_tuple)\n",
    "\n",
    "df = pd.DataFrame(data = movie_list, columns=headings)"
   ]
  },
  {
   "cell_type": "code",
   "execution_count": 5,
   "metadata": {
    "collapsed": false
   },
   "outputs": [
    {
     "data": {
      "text/html": [
       "<div>\n",
       "<table border=\"1\" class=\"dataframe\">\n",
       "  <thead>\n",
       "    <tr style=\"text-align: right;\">\n",
       "      <th></th>\n",
       "      <th>Rank</th>\n",
       "      <th>Title</th>\n",
       "      <th>Release_Year</th>\n",
       "      <th>Domestic Box Office</th>\n",
       "      <th>International Box Office</th>\n",
       "      <th>Total Box Office</th>\n",
       "    </tr>\n",
       "  </thead>\n",
       "  <tbody>\n",
       "    <tr>\n",
       "      <th>6095</th>\n",
       "      <td>6,096</td>\n",
       "      <td>Heart Condition</td>\n",
       "      <td>1990</td>\n",
       "      <td>$4,134,992</td>\n",
       "      <td>$0</td>\n",
       "      <td>$4,134,992</td>\n",
       "    </tr>\n",
       "    <tr>\n",
       "      <th>6096</th>\n",
       "      <td>6,097</td>\n",
       "      <td>Venom</td>\n",
       "      <td>1982</td>\n",
       "      <td>$4,117,958</td>\n",
       "      <td>$0</td>\n",
       "      <td>$4,117,958</td>\n",
       "    </tr>\n",
       "    <tr>\n",
       "      <th>6097</th>\n",
       "      <td>6,098</td>\n",
       "      <td>Partners</td>\n",
       "      <td>1982</td>\n",
       "      <td>$4,109,724</td>\n",
       "      <td>$0</td>\n",
       "      <td>$4,109,724</td>\n",
       "    </tr>\n",
       "    <tr>\n",
       "      <th>6098</th>\n",
       "      <td>6,099</td>\n",
       "      <td>Kama Sutra</td>\n",
       "      <td>1997</td>\n",
       "      <td>$4,109,095</td>\n",
       "      <td>$0</td>\n",
       "      <td>$4,109,095</td>\n",
       "    </tr>\n",
       "    <tr>\n",
       "      <th>6099</th>\n",
       "      <td>6,100</td>\n",
       "      <td>Serbuan maut</td>\n",
       "      <td>2012</td>\n",
       "      <td>$4,105,123</td>\n",
       "      <td>$5,192,284</td>\n",
       "      <td>$9,297,407</td>\n",
       "    </tr>\n",
       "  </tbody>\n",
       "</table>\n",
       "</div>"
      ],
      "text/plain": [
       "       Rank            Title Release_Year Domestic Box Office  \\\n",
       "6095  6,096  Heart Condition         1990          $4,134,992   \n",
       "6096  6,097            Venom         1982          $4,117,958   \n",
       "6097  6,098         Partners         1982          $4,109,724   \n",
       "6098  6,099       Kama Sutra         1997          $4,109,095   \n",
       "6099  6,100     Serbuan maut         2012          $4,105,123   \n",
       "\n",
       "     International Box Office Total Box Office  \n",
       "6095                       $0       $4,134,992  \n",
       "6096                       $0       $4,117,958  \n",
       "6097                       $0       $4,109,724  \n",
       "6098                       $0       $4,109,095  \n",
       "6099               $5,192,284       $9,297,407  "
      ]
     },
     "execution_count": 5,
     "metadata": {},
     "output_type": "execute_result"
    }
   ],
   "source": [
    "df.tail()"
   ]
  },
  {
   "cell_type": "code",
   "execution_count": 10,
   "metadata": {
    "collapsed": true
   },
   "outputs": [],
   "source": [
    "df.to_csv('final-box-office-data.csv', index=False, header=True)\n"
   ]
  },
  {
   "cell_type": "code",
   "execution_count": 7,
   "metadata": {
    "collapsed": false
   },
   "outputs": [
    {
     "name": "stdout",
     "output_type": "stream",
     "text": [
      "1.html                        3801.html\r\n",
      "1001.html                     3901.html\r\n",
      "101.html                      4001.html\r\n",
      "1101.html                     401.html\r\n",
      "1201.html                     4101.html\r\n",
      "1301.html                     4201.html\r\n",
      "1401.html                     4301.html\r\n",
      "1501.html                     4401.html\r\n",
      "1601.html                     4501.html\r\n",
      "1701.html                     4601.html\r\n",
      "1801.html                     4701.html\r\n",
      "1901.html                     4801.html\r\n",
      "2001.html                     4901.html\r\n",
      "201.html                      5001.html\r\n",
      "2101.html                     501.html\r\n",
      "2201.html                     5101.html\r\n",
      "2301.html                     5201.html\r\n",
      "2401.html                     5301.html\r\n",
      "2501.html                     5401.html\r\n",
      "2601.html                     5501.html\r\n",
      "2701.html                     5601.html\r\n",
      "2801.html                     5701.html\r\n",
      "2901.html                     5801.html\r\n",
      "3001.html                     5901.html\r\n",
      "301.html                      6001.html\r\n",
      "3101.html                     601.html\r\n",
      "3201.html                     701.html\r\n",
      "3301.html                     801.html\r\n",
      "3401.html                     901.html\r\n",
      "3501.html                     The-Numbers-HTML-Parser.ipynb\r\n",
      "3601.html                     The-Numbers-Parser-v2.ipynb\r\n",
      "3701.html                     final-box-office-data.csv\r\n"
     ]
    }
   ],
   "source": [
    "!ls"
   ]
  },
  {
   "cell_type": "code",
   "execution_count": 8,
   "metadata": {
    "collapsed": true
   },
   "outputs": [],
   "source": [
    "'''\n",
    "general form(not needed since already in the proper directory)\n",
    "Location = r'C:\\Users\\david\\notebooks\\update\\births1880.csv'\n",
    "df = pd.read_csv(Location)\n",
    "'''\n",
    "\n",
    "df2 = read_csv('final-box-office-data.csv')\n"
   ]
  },
  {
   "cell_type": "code",
   "execution_count": 9,
   "metadata": {
    "collapsed": false
   },
   "outputs": [
    {
     "data": {
      "text/html": [
       "<div>\n",
       "<table border=\"1\" class=\"dataframe\">\n",
       "  <thead>\n",
       "    <tr style=\"text-align: right;\">\n",
       "      <th></th>\n",
       "      <th>1</th>\n",
       "      <th>Star Wars Ep. VII: The Force Awakens</th>\n",
       "      <th>2015</th>\n",
       "      <th>$936,662,225</th>\n",
       "      <th>$1,122,000,000</th>\n",
       "      <th>$2,058,662,225</th>\n",
       "    </tr>\n",
       "  </thead>\n",
       "  <tbody>\n",
       "    <tr>\n",
       "      <th>6094</th>\n",
       "      <td>6,096</td>\n",
       "      <td>Heart Condition</td>\n",
       "      <td>1990</td>\n",
       "      <td>$4,134,992</td>\n",
       "      <td>$0</td>\n",
       "      <td>$4,134,992</td>\n",
       "    </tr>\n",
       "    <tr>\n",
       "      <th>6095</th>\n",
       "      <td>6,097</td>\n",
       "      <td>Venom</td>\n",
       "      <td>1982</td>\n",
       "      <td>$4,117,958</td>\n",
       "      <td>$0</td>\n",
       "      <td>$4,117,958</td>\n",
       "    </tr>\n",
       "    <tr>\n",
       "      <th>6096</th>\n",
       "      <td>6,098</td>\n",
       "      <td>Partners</td>\n",
       "      <td>1982</td>\n",
       "      <td>$4,109,724</td>\n",
       "      <td>$0</td>\n",
       "      <td>$4,109,724</td>\n",
       "    </tr>\n",
       "    <tr>\n",
       "      <th>6097</th>\n",
       "      <td>6,099</td>\n",
       "      <td>Kama Sutra</td>\n",
       "      <td>1997</td>\n",
       "      <td>$4,109,095</td>\n",
       "      <td>$0</td>\n",
       "      <td>$4,109,095</td>\n",
       "    </tr>\n",
       "    <tr>\n",
       "      <th>6098</th>\n",
       "      <td>6,100</td>\n",
       "      <td>Serbuan maut</td>\n",
       "      <td>2012</td>\n",
       "      <td>$4,105,123</td>\n",
       "      <td>$5,192,284</td>\n",
       "      <td>$9,297,407</td>\n",
       "    </tr>\n",
       "  </tbody>\n",
       "</table>\n",
       "</div>"
      ],
      "text/plain": [
       "          1 Star Wars Ep. VII: The Force Awakens  2015 $936,662,225  \\\n",
       "6094  6,096                      Heart Condition  1990   $4,134,992   \n",
       "6095  6,097                                Venom  1982   $4,117,958   \n",
       "6096  6,098                             Partners  1982   $4,109,724   \n",
       "6097  6,099                           Kama Sutra  1997   $4,109,095   \n",
       "6098  6,100                         Serbuan maut  2012   $4,105,123   \n",
       "\n",
       "     $1,122,000,000 $2,058,662,225  \n",
       "6094             $0     $4,134,992  \n",
       "6095             $0     $4,117,958  \n",
       "6096             $0     $4,109,724  \n",
       "6097             $0     $4,109,095  \n",
       "6098     $5,192,284     $9,297,407  "
      ]
     },
     "execution_count": 9,
     "metadata": {},
     "output_type": "execute_result"
    }
   ],
   "source": [
    "df2.tail()"
   ]
  },
  {
   "cell_type": "code",
   "execution_count": null,
   "metadata": {
    "collapsed": true
   },
   "outputs": [],
   "source": []
  }
 ],
 "metadata": {
  "kernelspec": {
   "display_name": "Python 3",
   "language": "python",
   "name": "python3"
  },
  "language_info": {
   "codemirror_mode": {
    "name": "ipython",
    "version": 3
   },
   "file_extension": ".py",
   "mimetype": "text/x-python",
   "name": "python",
   "nbconvert_exporter": "python",
   "pygments_lexer": "ipython3",
   "version": "3.6.0"
  }
 },
 "nbformat": 4,
 "nbformat_minor": 2
}
