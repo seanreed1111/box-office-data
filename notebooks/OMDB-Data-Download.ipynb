{
 "cells": [
  {
   "cell_type": "code",
   "execution_count": 3,
   "metadata": {
    "collapsed": false
   },
   "outputs": [],
   "source": [
    "OMDB_SECRET = \"\" #keep it secret. Do not commit with this filled out"
   ]
  },
  {
   "cell_type": "markdown",
   "metadata": {},
   "source": [
    "'''\n",
    "OMDB Usage =>http://www.omdbapi.com/?apikey=[yourkey]&\n",
    "\n",
    "OMDB Requests\n",
    "use t for title search=> http://www.omdbapi.com/?t=dark+knight\n",
    "\n",
    "BEWARE. First Match is returned. Movie Titles are tricky and repetitive\n",
    "http://www.omdbapi.com/?t=dark+knight&r=xml returns\n",
    "\n",
    "<?xml version=\"1.0\" encoding=\"UTF-8\"?><root response=\"True\">\n",
    "<movie title=\"Dark Knight\" year=\"2000–\" rated=\"PG-13\" released=\"01 Jul 2000\" \n",
    "runtime=\"N/A\" genre=\"N/A\" director=\"N/A\" writer=\"N/A\" \n",
    "actors=\"Charlotte Comer, Ben Pullen, Peter O'Farrell, Marama Jackson\" \n",
    "plot=\"Set in the dark ages, a time of fear, magic and mystery. \n",
    "Ancient evil is about to be unleashed on the land and the only hope is the sharp sword, \n",
    "the pure heart and the mysterious force that protects the 'Chosen One' Ivanhoe.\" language=\"N/A\" country=\"UK\" awards=\"N/A\" poster=\"https://images-na.ssl-images-amazon.com/images/M/MV5BNWFjNzM0M2EtZDE4ZS00NDZlLTlhYjItNDhhNjgxODllYzdhXkEyXkFqcGdeQXVyNDUxNjc5NjY@._V1_SX300.jpg\" metascore=\"N/A\" imdbRating=\"5.4\" imdbVotes=\"146\" \n",
    "imdbID=\"tt0251504\" type=\"series\"/></root>\n",
    "\n",
    "but http://www.omdbapi.com/?t=dark+knight&y=2012&r=xml returns\n",
    "\n",
    "<?xml version=\"1.0\" encoding=\"UTF-8\"?><root response=\"True\">\n",
    "<movie title=\"The Dark Knight Rises\" year=\"2012\" rated=\"PG-13\" released=\"20 Jul 2012\" \n",
    "runtime=\"164 min\" genre=\"Action, Thriller\" director=\"Christopher Nolan\" \n",
    "writer=\"Jonathan Nolan (screenplay), Christopher Nolan (screenplay), Christopher Nolan (story), David S. Goyer (story), Bob Kane (characters)\" \n",
    "actors=\"Christian Bale, Gary Oldman, Tom Hardy, Joseph Gordon-Levitt\" plot=\"Eight years after the Joker's reign of anarchy, the Dark Knight, with the help of the enigmatic Selina, is forced from his exile to save Gotham City, now on the edge of total annihilation, from the brutal guerrilla terrorist Bane.\" language=\"English, Arabic\" country=\"UK, USA\" awards=\"Nominated for 1 BAFTA Film Award. Another 38 wins & 101 nominations.\" poster=\"https://images-na.ssl-images-amazon.com/images/M/MV5BMTk4ODQzNDY3Ml5BMl5BanBnXkFtZTcwODA0NTM4Nw@@._V1_SX300.jpg\" metascore=\"78\" imdbRating=\"8.5\" imdbVotes=\"1,235,836\" \n",
    "imdbID=\"tt1345836\" type=\"movie\"/></root>\n",
    "'''\n",
    "#Goals: extract the imbdID as string, genre as list, plot as string, rated as string, \n",
    "#director as comma separated list, writer as comma separated list,actors as comma separated list,\n"
   ]
  },
  {
   "cell_type": "code",
   "execution_count": null,
   "metadata": {
    "collapsed": true
   },
   "outputs": [],
   "source": []
  },
  {
   "cell_type": "code",
   "execution_count": null,
   "metadata": {
    "collapsed": true
   },
   "outputs": [],
   "source": []
  },
  {
   "cell_type": "code",
   "execution_count": null,
   "metadata": {
    "collapsed": true
   },
   "outputs": [],
   "source": []
  }
 ],
 "metadata": {
  "kernelspec": {
   "display_name": "Python 3",
   "language": "python",
   "name": "python3"
  },
  "language_info": {
   "codemirror_mode": {
    "name": "ipython",
    "version": 3
   },
   "file_extension": ".py",
   "mimetype": "text/x-python",
   "name": "python",
   "nbconvert_exporter": "python",
   "pygments_lexer": "ipython3",
   "version": "3.6.0"
  }
 },
 "nbformat": 4,
 "nbformat_minor": 2
}
